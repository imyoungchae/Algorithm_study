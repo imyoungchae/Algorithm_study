{
  "nbformat": 4,
  "nbformat_minor": 0,
  "metadata": {
    "colab": {
      "name": "matrix2.ipynb",
      "provenance": [],
      "collapsed_sections": [],
      "authorship_tag": "ABX9TyMsVLyaKkfQ/7GxtL+kCMxS",
      "include_colab_link": true
    },
    "kernelspec": {
      "name": "python3",
      "display_name": "Python 3"
    },
    "language_info": {
      "name": "python"
    }
  },
  "cells": [
    {
      "cell_type": "markdown",
      "metadata": {
        "id": "view-in-github",
        "colab_type": "text"
      },
      "source": [
        "<a href=\"https://colab.research.google.com/github/imyoungchae/Python_study/blob/main/matrix2.ipynb\" target=\"_parent\"><img src=\"https://colab.research.google.com/assets/colab-badge.svg\" alt=\"Open In Colab\"/></a>"
      ]
    },
    {
      "cell_type": "code",
      "execution_count": 2,
      "metadata": {
        "colab": {
          "base_uri": "https://localhost:8080/"
        },
        "id": "Dv6ag2wcHMcE",
        "outputId": "3f4a6130-f1cf-449c-c18d-173b8188f368"
      },
      "outputs": [
        {
          "output_type": "stream",
          "name": "stdout",
          "text": [
            "rank:  tf.Tensor(3, shape=(), dtype=int32)\n",
            "tensorl:  tf.Tensor(\n",
            "[[[ 1  2  3  4]\n",
            "  [ 5  6  7  8]]\n",
            "\n",
            " [[ 9 10 11 12]\n",
            "  [13 14 15 16]]\n",
            "\n",
            " [[17 18 19 20]\n",
            "  [21 22 23 24]]], shape=(3, 2, 4), dtype=int32)\n"
          ]
        }
      ],
      "source": [
        "import tensorflow as tf\n",
        "import numpy as np\n",
        "\n",
        "mat1=[[1,2,3,4],\n",
        "      [5,6,7,8]]\n",
        "\n",
        "mat2=[[9,10,11,12],\n",
        "      [13,14,15,16]]\n",
        "\n",
        "mat3=[[17,18,19,20],\n",
        "      [21,22,23,24]]\n",
        "\n",
        "tensor1=tf.constant([mat1,mat2,mat3])\n",
        "\n",
        "print(\"rank: \",tf.rank(tensor1))\n",
        "\n",
        "print(\"tensorl: \",tensor1)"
      ]
    },
    {
      "cell_type": "code",
      "source": [
        "# 스택 함수를 이용하여 결합하기\n",
        "\n",
        "tensor2=tf.stack([mat1,mat2,mat3])\n",
        "print(\"rank: \",tf.rank(tensor2))\n",
        "\n",
        "print(\"tensorl: \",tensor2)\n"
      ],
      "metadata": {
        "colab": {
          "base_uri": "https://localhost:8080/"
        },
        "id": "a8r6dd6-H5jT",
        "outputId": "d6ff2b51-e043-4bae-8913-2b02762c6186"
      },
      "execution_count": 3,
      "outputs": [
        {
          "output_type": "stream",
          "name": "stdout",
          "text": [
            "rank:  tf.Tensor(3, shape=(), dtype=int32)\n",
            "tensorl:  tf.Tensor(\n",
            "[[[ 1  2  3  4]\n",
            "  [ 5  6  7  8]]\n",
            "\n",
            " [[ 9 10 11 12]\n",
            "  [13 14 15 16]]\n",
            "\n",
            " [[17 18 19 20]\n",
            "  [21 22 23 24]]], shape=(3, 2, 4), dtype=int32)\n"
          ]
        }
      ]
    }
  ]
}