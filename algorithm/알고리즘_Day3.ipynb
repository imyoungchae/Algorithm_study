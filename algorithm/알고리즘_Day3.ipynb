{
  "nbformat": 4,
  "nbformat_minor": 0,
  "metadata": {
    "colab": {
      "name": "알고리즘 Day3",
      "provenance": [],
      "collapsed_sections": [],
      "authorship_tag": "ABX9TyMJYJb5xzN3ycLE+Q/Wptdf",
      "include_colab_link": true
    },
    "kernelspec": {
      "name": "python3",
      "display_name": "Python 3"
    },
    "language_info": {
      "name": "python"
    }
  },
  "cells": [
    {
      "cell_type": "markdown",
      "metadata": {
        "id": "view-in-github",
        "colab_type": "text"
      },
      "source": [
        "<a href=\"https://colab.research.google.com/github/imyoungchae/YoungChaeSon/blob/main/%EC%95%8C%EA%B3%A0%EB%A6%AC%EC%A6%98_Day3.ipynb\" target=\"_parent\"><img src=\"https://colab.research.google.com/assets/colab-badge.svg\" alt=\"Open In Colab\"/></a>"
      ]
    },
    {
      "cell_type": "markdown",
      "source": [
        "# 집합"
      ],
      "metadata": {
        "id": "7VI_jWEvZCIg"
      }
    },
    {
      "cell_type": "code",
      "execution_count": null,
      "metadata": {
        "colab": {
          "base_uri": "https://localhost:8080/"
        },
        "id": "4tTvgzZtUJ8K",
        "outputId": "3d7f3070-fcfb-41fa-88b1-8072bf280150"
      },
      "outputs": [
        {
          "output_type": "stream",
          "name": "stdout",
          "text": [
            "사자는 포유류이다\n",
            "True\n",
            "True\n",
            "True\n",
            "False\n"
          ]
        }
      ],
      "source": [
        "mammal={'코끼리','고릴라','사자','고래','사람','원숭이','개'}\n",
        "primate={'사람','원숭이','고릴라'}\n",
        "\n",
        "if '사자' in mammal:\n",
        "    print('사자는 포유류이다')\n",
        "else:\n",
        "    print(\"사자는 포유류가 아니다\")\n",
        "\n",
        "print(primate<=mammal)\n",
        "print(primate<mammal)\n",
        "print(primate<=primate)\n",
        "print(primate<primate)\n"
      ]
    },
    {
      "cell_type": "code",
      "source": [
        "asia={'korea','china','japan','korea'}\n",
        "print(asia)#집합에 중복 불가능 korea는 하나만 출력된다\n",
        "\n",
        "\n",
        "print(set(\"youngchae\"))#순서 없이 나옴 문자 하나씩 출력\n",
        "print(set([12,45,77,34]))#순서없이 나옴\n",
        "print(set((\"신지희\",\"한주완\",\"김태륜\")))#순서 없이 나옴\n",
        "print(set({'boy':'소년','school':'학교','book':'책'}))#key값만 나옴\n",
        "print(set())#빈 집합은 그냥 set()그대로 출력\n",
        "\n",
        "asia={'korea','japan','china'}\n",
        "asia.add('vietnam')\n",
        "asia.add('china')#중복이 안되기 때문에 최종 출력엔 china 1개\n",
        "asia.remove('japan')\n",
        "print(asia)\n",
        "asia.update({'singapore','hongkong','korea'})\n",
        "print(asia)\n",
        "\n",
        "twox={2,4,6,8,10,12}\n",
        "threex={3,6,9,12,15}\n",
        "\n",
        "print('교집합',twox&threex)\n",
        "print('합집합',twox|threex)#중복된 것들은 하나만 출력\n",
        "print('차집합',twox-threex)\n",
        "print('차집합',threex-twox)\n",
        "print('배타적 차집합',twox^threex)# ^=Caret 한집합에 하나씩 있는 값들만 추린 것 / 합집합과 다르게 중복된 것들은 아예 출력 x"
      ],
      "metadata": {
        "id": "qOXyK7x2UNqx"
      },
      "execution_count": null,
      "outputs": []
    },
    {
      "cell_type": "markdown",
      "source": [
        "# 리스트 사용"
      ],
      "metadata": {
        "id": "SO95aAXNZO5n"
      }
    },
    {
      "cell_type": "markdown",
      "source": [
        "-리스트를 이용한 피타고라스"
      ],
      "metadata": {
        "id": "5zKEK9ZpUfov"
      }
    },
    {
      "cell_type": "code",
      "source": [
        "a=[(x,y,z) for x in range(1,30) for y in range(1,30) for z in range(1,30) if x**2 +y**2==z**2]\n",
        "\n",
        "print(a)\n",
        "new_list=[]\n",
        "for x in range(1,30):\n",
        "  for y in range(1,30):\n",
        "    for z in range(y,30):\n",
        "      if x**2+y**2==z**2:\n",
        "        new_list.append((x,y,z))\n",
        "\n",
        "print(new_list)"
      ],
      "metadata": {
        "id": "OoqLFofXURRo"
      },
      "execution_count": null,
      "outputs": []
    },
    {
      "cell_type": "markdown",
      "source": [
        "-친구 리스트 출력"
      ],
      "metadata": {
        "id": "kv9PrgKGUdaP"
      }
    },
    {
      "cell_type": "code",
      "source": [
        "menu=0\n",
        "friends=[]\n",
        "while menu!=9:\n",
        "  print('☆☆☆☆☆☆☆☆☆☆☆☆☆☆')\n",
        "  print('1.친구 리스트 출력')\n",
        "  print('2.친구 추가')\n",
        "  print('3.친구 삭제')\n",
        "  print('4.이름 변경')\n",
        "  print('9.종료')\n",
        "  print('★★★★★★★★★★★★★★')\n",
        "  menu=int(input('메뉴를 선택하세요:  '))\n",
        "  if menu==1:\n",
        "    print(friends)\n",
        "  elif menu==2:\n",
        "    name=input('이름을 입력하시오:  ')\n",
        "    friends.append(name)\n",
        "  elif menu==3:\n",
        "    del_name=input('삭제하고 싶은 이름을 입력하세요: ')\n",
        "    if del_name in friends:\n",
        "      friends.remove(del_name)\n",
        "    else:\n",
        "      print('이름이 발견되지 않음')\n",
        "  elif menu==4:\n",
        "    old_name=input('변경하고 싶은 이름을 입력하세요: ')\n",
        "    if old_name in friends:\n",
        "      index=friends.index(old_name)\n",
        "      new_name=input('새로운 이름을 입력하세요: ')\n",
        "      friends[index]=new_name\n",
        "    else:\n",
        "      print('이름이 발견되지 않음')"
      ],
      "metadata": {
        "id": "6_T3A2vfUS_g"
      },
      "execution_count": null,
      "outputs": []
    },
    {
      "cell_type": "markdown",
      "source": [
        "# 딕셔너리 사용"
      ],
      "metadata": {
        "id": "8UOanXx-ZIWf"
      }
    },
    {
      "cell_type": "markdown",
      "source": [
        "-알파벳 숫자 세기(딕셔너리 사용)"
      ],
      "metadata": {
        "id": "_GDG9AN8Ua6I"
      }
    },
    {
      "cell_type": "code",
      "source": [
        "song=\"\"\"by the rivers of Babylon Where he sat down\n",
        "yeah we wept, When we remember Zion.\n",
        "When the wicked carried us away in captivity\n",
        "Required from us a song\n",
        "How can we sing King Alpha song in a strange land\"\"\"\n",
        "\n",
        "alphabet=dict()\n",
        "for a in song:\n",
        "    if a.isalpha()==False:# isalpha = 공백일때\n",
        "        continue\n",
        "    a=a.lower()\n",
        "    if a not in alphabet:\n",
        "        alphabet[a]=1\n",
        "    else:\n",
        "        alphabet[a]+=1\n",
        "print(alphabet)\n",
        "\n",
        "#결과:{'b': 4, 'y': 5, 't': 7, 'h': 9, 'e': 21, 'r': 11, 'i': 11, 'v': 2, 's': 8, 'o': 8, 'f': 2, 'a': 14, 'l': 3, 'n': 14, 'w': 11, 'd': 5, 'p': 3, 'm': 3, 'z': 1, 'c': 4, 'k': 2, 'u': 3, 'q': 1, 'g': 5}\n",
        "#      =>알파벳의 순서가 다르게 출력된다\n",
        "\n",
        "key=list(alphabet.keys())\n",
        "key.sort()\n",
        "for c in key:\n",
        "    num=alphabet[c]\n",
        "    print(c,\"=>\",num)\n",
        "#      =>알파벳의 순서가 올바르게 정렬되어 출력된다"
      ],
      "metadata": {
        "id": "M0dv9TuSUUvw"
      },
      "execution_count": null,
      "outputs": []
    },
    {
      "cell_type": "markdown",
      "source": [
        "-영한사전 만들기(딕셔너리 이용)"
      ],
      "metadata": {
        "id": "yCJsBhsSUYd4"
      }
    },
    {
      "cell_type": "code",
      "source": [
        "english_dict=dict()\n",
        "\n",
        "english_dict['one']='하나'\n",
        "english_dict['two']='둘'\n",
        "english_dict['three']='셋'\n",
        "\n",
        "word=input('단어를 입력하시오:  ')\n",
        "print(english_dict.get(word,'없음'))"
      ],
      "metadata": {
        "id": "HesRLO2VUWYI"
      },
      "execution_count": null,
      "outputs": []
    }
  ]
}
