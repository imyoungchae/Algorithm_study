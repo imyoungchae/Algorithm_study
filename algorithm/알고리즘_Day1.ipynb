{
  "nbformat": 4,
  "nbformat_minor": 0,
  "metadata": {
    "colab": {
      "name": "알고리즘 Day1",
      "provenance": [],
      "collapsed_sections": [],
      "authorship_tag": "ABX9TyM74eGtwo7ypnWQOGElC1DH",
      "include_colab_link": true
    },
    "kernelspec": {
      "name": "python3",
      "display_name": "Python 3"
    },
    "language_info": {
      "name": "python"
    }
  },
  "cells": [
    {
      "cell_type": "markdown",
      "metadata": {
        "id": "view-in-github",
        "colab_type": "text"
      },
      "source": [
        "<a href=\"https://colab.research.google.com/github/imyoungchae/YoungChaeSon/blob/main/%EC%95%8C%EA%B3%A0%EB%A6%AC%EC%A6%98_Day1.ipynb\" target=\"_parent\"><img src=\"https://colab.research.google.com/assets/colab-badge.svg\" alt=\"Open In Colab\"/></a>"
      ]
    },
    {
      "cell_type": "markdown",
      "source": [
        "tuple과 list의 차이: list는 수정 가능하고 tuple은 수정 불가능 연필과 볼펜이라고 생각"
      ],
      "metadata": {
        "id": "prcXnAqdSCYx"
      }
    },
    {
      "cell_type": "code",
      "source": [
        "nums=[0,1,2,3,4,5,6,7,8,9]\n",
        "print(nums)\n",
        "nums[2:5] = []# 2,3,4삭제\n",
        "print(nums)\n",
        "del nums[4]# 4번째 값 삭제\n",
        "print(nums)"
      ],
      "metadata": {
        "colab": {
          "base_uri": "https://localhost:8080/"
        },
        "id": "7GOOeLB-SLKx",
        "outputId": "14f035ba-55eb-4674-a965-da82b70069a0"
      },
      "execution_count": 1,
      "outputs": [
        {
          "output_type": "stream",
          "name": "stdout",
          "text": [
            "[0, 1, 2, 3, 4, 5, 6, 7, 8, 9]\n",
            "[0, 1, 5, 6, 7, 8, 9]\n",
            "[0, 1, 5, 6, 8, 9]\n"
          ]
        }
      ]
    },
    {
      "cell_type": "code",
      "source": [
        "list1=[1,2,3,4,5]\n",
        "list2=[10,11]\n",
        "listadd=list1+list2\n",
        "print(listadd)# 리스트의 합\n",
        "print(list1)\n",
        "print(list2)\n",
        "listmulti=list2*3\n",
        "print(listmulti)# 리스트의 곱\n",
        "print(\"--\"*40)"
      ],
      "metadata": {
        "colab": {
          "base_uri": "https://localhost:8080/"
        },
        "id": "5zRfOk47SLzB",
        "outputId": "375cf699-c9b0-44a1-a04f-d4f7a79d1170"
      },
      "execution_count": 2,
      "outputs": [
        {
          "output_type": "stream",
          "name": "stdout",
          "text": [
            "[1, 2, 3, 4, 5, 10, 11]\n",
            "[1, 2, 3, 4, 5]\n",
            "[10, 11]\n",
            "[10, 11, 10, 11, 10, 11]\n",
            "--------------------------------------------------------------------------------\n"
          ]
        }
      ]
    },
    {
      "cell_type": "code",
      "source": [
        "listmulti1=[(list1[0]*3),(list1[1]*3),(list1[2]*3),(list1[3]*3),(list1[4]*3)] #이중리스트\n",
        "print(listmulti1)\n",
        "lol=[[1,2,3],[4,5],[6,7,8,9]]\n",
        "print(lol[0])\n",
        "print(lol[2][1])\n",
        "\n",
        "for sub in lol:\n",
        "    for item in sub:\n",
        "        print(item,end='')\n",
        "    print()#이중리스트에서 각각 리스트 출력하기"
      ],
      "metadata": {
        "colab": {
          "base_uri": "https://localhost:8080/"
        },
        "id": "klQItiwsSOkx",
        "outputId": "baad5dbc-2cea-42cb-c4ea-3205f1a780dd"
      },
      "execution_count": 3,
      "outputs": [
        {
          "output_type": "stream",
          "name": "stdout",
          "text": [
            "[3, 6, 9, 12, 15]\n",
            "[1, 2, 3]\n",
            "7\n",
            "123\n",
            "45\n",
            "6789\n"
          ]
        }
      ]
    },
    {
      "cell_type": "code",
      "execution_count": 4,
      "metadata": {
        "colab": {
          "base_uri": "https://localhost:8080/"
        },
        "id": "IuHKxFBOSA_w",
        "outputId": "071264c7-4e4c-4b95-a2fa-707db0ffa2fc"
      },
      "outputs": [
        {
          "output_type": "stream",
          "name": "stdout",
          "text": [
            "[1, 2, 3, 4, 5]\n",
            "[1, 2, 99, 3, 4, 5]\n"
          ]
        }
      ],
      "source": [
        "nums=[1,2,3,4]\n",
        "nums.append(5)#append는 삽입할 위치 알려주지 않음\n",
        "print(nums)\n",
        "nums.insert(2,99)#index가 2인 곳에 들어가도록 한다\n",
        "print(nums)\n"
      ]
    },
    {
      "cell_type": "code",
      "source": [
        "nums=[1,2,3,4]\n",
        "nums[2:2]=[90,91,92]#끼워서 들어가는 개념\n",
        "print(nums)\n",
        "\n",
        "nums=[1,2,3,4]\n",
        "nums[2]=[90,91,92]#[2]의 값과 바꿔치기 하는 개념\n",
        "print(nums)\n"
      ],
      "metadata": {
        "colab": {
          "base_uri": "https://localhost:8080/"
        },
        "id": "FQ6iUmTsSRCg",
        "outputId": "cbbde484-a251-42c4-8a11-043aaaad8642"
      },
      "execution_count": 5,
      "outputs": [
        {
          "output_type": "stream",
          "name": "stdout",
          "text": [
            "[1, 2, 90, 91, 92, 3, 4]\n",
            "[1, 2, [90, 91, 92], 4]\n"
          ]
        }
      ]
    },
    {
      "cell_type": "code",
      "source": [
        "list1=[1,2,3,4,5]\n",
        "list2=[10,11]\n",
        "list1.extend(list2)\n",
        "print(list1)\n",
        "list3=list1+list2\n",
        "print(list3)\n",
        "print(list1)"
      ],
      "metadata": {
        "colab": {
          "base_uri": "https://localhost:8080/"
        },
        "id": "ETJqy_eSSTzY",
        "outputId": "d5eac665-1655-40d8-ccc1-5ea29139d479"
      },
      "execution_count": 6,
      "outputs": [
        {
          "output_type": "stream",
          "name": "stdout",
          "text": [
            "[1, 2, 3, 4, 5, 10, 11]\n",
            "[1, 2, 3, 4, 5, 10, 11, 10, 11]\n",
            "[1, 2, 3, 4, 5, 10, 11]\n"
          ]
        }
      ]
    },
    {
      "cell_type": "code",
      "source": [
        "#삭제하는 방법들\n",
        "score=[88,95,70,100,99,80,78,50]\n",
        "score.remove(100) #remove 만일 찾는 값이 없으면, 예외를 발생시킨다\n",
        "print(score)\n",
        "\n",
        "del(score[2])\n",
        "print(score) #del\n",
        "\n",
        "score[1:4]=[]\n",
        "print(score) #=[]\n",
        "\n",
        "score.clear()\n",
        "print(score) #clear\n",
        "\n",
        "score=[88,95,70,100,99,80,78,50]\n",
        "score[:]=[]\n",
        "print(score)#score.clear()와 같다\n",
        "\n",
        "del score[:]#del [:]\n",
        "print(score)\n"
      ],
      "metadata": {
        "colab": {
          "base_uri": "https://localhost:8080/"
        },
        "id": "4UFiSrpDSW86",
        "outputId": "5a13c0e4-6498-4383-d283-faaaed88a7d0"
      },
      "execution_count": 7,
      "outputs": [
        {
          "output_type": "stream",
          "name": "stdout",
          "text": [
            "[88, 95, 70, 99, 80, 78, 50]\n",
            "[88, 95, 99, 80, 78, 50]\n",
            "[88, 78, 50]\n",
            "[]\n",
            "[]\n",
            "[]\n"
          ]
        }
      ]
    }
  ]
}
