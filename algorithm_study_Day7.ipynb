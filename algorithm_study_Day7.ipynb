{
  "nbformat": 4,
  "nbformat_minor": 0,
  "metadata": {
    "colab": {
      "name": "알고리즘 Day7",
      "provenance": [],
      "authorship_tag": "ABX9TyNqNayE+hkHWTAj9L6qDRPd",
      "include_colab_link": true
    },
    "kernelspec": {
      "name": "python3",
      "display_name": "Python 3"
    },
    "language_info": {
      "name": "python"
    }
  },
  "cells": [
    {
      "cell_type": "markdown",
      "metadata": {
        "id": "view-in-github",
        "colab_type": "text"
      },
      "source": [
        "<a href=\"https://colab.research.google.com/github/imyoungchae/YoungChaeSon/blob/main/%EC%95%8C%EA%B3%A0%EB%A6%AC%EC%A6%98_Day7.ipynb\" target=\"_parent\"><img src=\"https://colab.research.google.com/assets/colab-badge.svg\" alt=\"Open In Colab\"/></a>"
      ]
    },
    {
      "cell_type": "markdown",
      "source": [
        "# 친구리스트에서 자신의 모든 친구를 찾는 알고리즘(그래프이론)"
      ],
      "metadata": {
        "id": "Wvz7xG_xEvS-"
      }
    },
    {
      "cell_type": "markdown",
      "source": [
        "-입력: 친구 관계 그래프 g, 모든 친구를 찾을 자신 start\\\n",
        "-출력: 모든 친구의 이름"
      ],
      "metadata": {
        "id": "jB4117plE10V"
      }
    },
    {
      "cell_type": "code",
      "execution_count": null,
      "metadata": {
        "id": "hhJY1dtpBbz2"
      },
      "outputs": [],
      "source": [
        "def print_all_friends(g,start):\n",
        "  qu=[] #기억장소1 : 앞으로 처리해야 할 사람들을 큐에 저장\n",
        "  done=set() #기억장소2 : 이미 큐에 추가한 사람들을 집합에 기록(중복방지)\n",
        "  qu.append(start) #자신을 큐에 넣고 시작\n",
        "  done.add(start) #집합에도 추가\n",
        "\n",
        "  while qu: #큐에 처리할 사람이 남아있는 동안\n",
        "    p=qu.pop(0) #큐에서 처리 대상을 한 명 꺼내\n",
        "    print(p) #그 이름을 출력하고\n",
        "    for x in g[p]: #그의 친구들중에\n",
        "      if x not in done: #아직 큐에 추가된 적이 없는 사람을\n",
        "        qu.append(x) #큐에 추가하고\n",
        "        done.add(x) #집합에도 추가\n",
        "\n",
        "#친구관계리스트\n",
        "#A와 B가 친구면\n",
        "#A의 친구 리스트에도 B가 나오고,B의 친구 리스트에도 A가 나옴\n",
        "\n",
        "fr_info={\n",
        "    'Summer':['John','Justin','Mike'],\n",
        "    'John':['Summer','Justin'],\n",
        "    'Justin':['John','Summer','Mike','May'],\n",
        "    'Mike':['Summer','Justin'],\n",
        "    'May':['Kim','Justin'],\n",
        "    'Kim':['May'],\n",
        "    'Tom':['Jerry'],\n",
        "    'Jerry':['Tom'],\n",
        "}\n",
        "print_all_friends(fr_info,'Summer')\n",
        "print()\n",
        "print_all_friends(fr_info,'Jerry')\n"
      ]
    },
    {
      "cell_type": "code",
      "source": [
        ""
      ],
      "metadata": {
        "colab": {
          "base_uri": "https://localhost:8080/"
        },
        "id": "vNV8LDgtHow9",
        "outputId": "2b0218ff-3be7-41e0-c1aa-8470b8822a92"
      },
      "execution_count": null,
      "outputs": [
        {
          "output_type": "stream",
          "name": "stdout",
          "text": [
            "Summer\n",
            "John\n",
            "Justin\n",
            "Mike\n",
            "May\n",
            "Kim\n",
            "\n",
            "Jerry\n",
            "Tom\n"
          ]
        }
      ]
    },
    {
      "cell_type": "markdown",
      "source": [
        "# 친구 리스트에서 자신의 모든 친구를 찾고 친구들의 친밀도를 계산하는 알고리즘"
      ],
      "metadata": {
        "id": "CrBexRQjEy99"
      }
    },
    {
      "cell_type": "markdown",
      "source": [
        "-입력:친구 관계 그래프g,모든 친구를 찾을 자신 start\\\n",
        "-출력:모든 친구의 이름과 자신과의 친밀도\\\n",
        "(자기 자신의 친밀도는 0)"
      ],
      "metadata": {
        "id": "Tj6-CtefLKKr"
      }
    },
    {
      "cell_type": "code",
      "source": [
        "def print_all_friends(g,start):\n",
        "  qu=[] #기억장소1 : 앞으로 처리해야 할 사람들을 큐에 저장\n",
        "  done=set() #기억장소2 : 이미 큐에 추가한 사람들을 집합에 기록(중복방지)\n",
        "  \n",
        "  qu.append((start,0)) #(사람 이름,친밀도) 정보를 하나의 튜플로 묶어 처리\n",
        "  done.add(start) #집합에도 추가\n",
        "\n",
        "  while qu: #큐에 처리할 사람이 남아있는 동안\n",
        "    (p,d)=qu.pop(0) #큐에서 (사람 이름, 친밀도) 정보를 p와 d로 각각 꺼냄\n",
        "    print(p,d) #사람 이름과 친밀도를 출력\n",
        "    for x in g[p]: #친구들중에\n",
        "      if x not in done: #아직 큐에 추가된 적이 없는 사람을\n",
        "        qu.append((x,d+1)) #친밀도를 1 증가시켜 큐에 추가하고\n",
        "        done.add(x) #집합에도 추가\n",
        "\n",
        "fr_info={\n",
        "    'Summer':['John','Justin','Mike'],\n",
        "    'John':['Summer','Justin'],\n",
        "    'Justin':['John','Summer','Mike','May'],\n",
        "    'Mike':['Summer','Justin'],\n",
        "    'May':['Kim','Justin'],\n",
        "    'Kim':['May'],\n",
        "    'Tom':['Jerry'],\n",
        "    'Jerry':['Tom'],\n",
        "}\n",
        "\n",
        "print_all_friends(fr_info,'Summer')\n",
        "print()\n",
        "print_all_friends(fr_info,'Jerry')\n"
      ],
      "metadata": {
        "colab": {
          "base_uri": "https://localhost:8080/"
        },
        "id": "u10c6ulZLUCF",
        "outputId": "327305f0-4e3c-4f63-ecfc-f4a4159af225"
      },
      "execution_count": null,
      "outputs": [
        {
          "output_type": "stream",
          "name": "stdout",
          "text": [
            "Summer 0\n",
            "John 1\n",
            "Justin 1\n",
            "Mike 1\n",
            "May 2\n",
            "Kim 3\n",
            "\n",
            "Jerry 0\n",
            "Tom 1\n"
          ]
        }
      ]
    }
  ]
}
