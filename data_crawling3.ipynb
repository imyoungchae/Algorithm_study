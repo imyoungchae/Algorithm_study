{
  "nbformat": 4,
  "nbformat_minor": 0,
  "metadata": {
    "colab": {
      "name": "data_crawling3.ipynb",
      "provenance": [],
      "authorship_tag": "ABX9TyMqsthO+qb3JoPfmvnohRqZ",
      "include_colab_link": true
    },
    "kernelspec": {
      "name": "python3",
      "display_name": "Python 3"
    },
    "language_info": {
      "name": "python"
    }
  },
  "cells": [
    {
      "cell_type": "markdown",
      "metadata": {
        "id": "view-in-github",
        "colab_type": "text"
      },
      "source": [
        "<a href=\"https://colab.research.google.com/github/imyoungchae/Python_study/blob/main/data_crawling3.ipynb\" target=\"_parent\"><img src=\"https://colab.research.google.com/assets/colab-badge.svg\" alt=\"Open In Colab\"/></a>"
      ]
    },
    {
      "cell_type": "code",
      "execution_count": 17,
      "metadata": {
        "id": "q8o42xU-HJbm"
      },
      "outputs": [],
      "source": [
        "from bs4 import BeautifulSoup\n",
        "import urllib.request\n",
        "from urllib.parse import quote\n",
        "import pandas as pd\n",
        "\n",
        "def get_naver_news(query,page_num=10):\n",
        "\n",
        "    news_df=pd.DataFrame(columns=(\"Title\",\"Link\",\"Press\",\"Datatime\",\"Article\"))\n",
        "    idx=0\n",
        "\n",
        "    url_query=quote(query)\n",
        "    url=\"https://search.naver.com/search.naver?where=news&sm=nws_hty&query=\" + url_query\n",
        "    \n",
        "    for _ in range(0,page_num):\n",
        "\n",
        "      search_url=urllib.request.urlopen(url).read()\n",
        "      soup = BeautifulSoup(search_url,'html.parser')\n",
        "      links = soup.find_all('dd',{'class':'txt_inline'})\n",
        "\n",
        "      for link in links:\n",
        "        press = link.find('span',{'class':'_sp_each_source'}).get_text()\n",
        "        news_url=link.find('a').get('href')\n",
        "\n",
        "        if(news_url=='#'):\n",
        "          continue\n",
        "        else:\n",
        "          news_link = urllib.request.urlopen(news_url).read()\n",
        "          news_html=BeautifulSoup(news_link,'html.parser')\n",
        "\n",
        "          title=news_html.find('h3',{'id':'articleTitle'}).get_text()\n",
        "          datetime=news_html.find('span',{'class':'t11'}).get_text()\n",
        "          article=news_html.find('div',{'id':'articleBodyContents'}).get_text()\n",
        "\n",
        "          news_df.loc[idx]=[title,news_url,press,datetime,article]\n",
        "          idx += 1\n",
        "          print(\"#\",end=\"\")\n",
        "\n",
        "      try:\n",
        "        next=soup.find('a',{'class':'next'}).get('href')\n",
        "        url=\"https://search.naver.com/search.naver?\"+next\n",
        "      except:\n",
        "        break\n",
        "\n",
        "    return news_df\n",
        "\n",
        "\n",
        "\n",
        "\n"
      ]
    },
    {
      "cell_type": "code",
      "source": [
        "query=input('검색질의: ')\n",
        "news_df=get_naver_news(query,1)\n",
        "print('done')"
      ],
      "metadata": {
        "colab": {
          "base_uri": "https://localhost:8080/"
        },
        "id": "-CDJmjW7TdvD",
        "outputId": "f5ef648b-02e7-4169-ddfd-9f5148e5de73"
      },
      "execution_count": 18,
      "outputs": [
        {
          "output_type": "stream",
          "name": "stdout",
          "text": [
            "검색질의: 인공지능\n",
            "done\n"
          ]
        }
      ]
    }
  ]
}