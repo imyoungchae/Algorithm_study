{
  "nbformat": 4,
  "nbformat_minor": 0,
  "metadata": {
    "colab": {
      "name": "data_crawling3.ipynb",
      "provenance": [],
      "collapsed_sections": [],
      "authorship_tag": "ABX9TyOmzS2+O/dZKnVX+47ZEBmZ",
      "include_colab_link": true
    },
    "kernelspec": {
      "name": "python3",
      "display_name": "Python 3"
    },
    "language_info": {
      "name": "python"
    }
  },
  "cells": [
    {
      "cell_type": "markdown",
      "metadata": {
        "id": "view-in-github",
        "colab_type": "text"
      },
      "source": [
        "<a href=\"https://colab.research.google.com/github/imyoungchae/Python_study/blob/main/data_crawling3.ipynb\" target=\"_parent\"><img src=\"https://colab.research.google.com/assets/colab-badge.svg\" alt=\"Open In Colab\"/></a>"
      ]
    },
    {
      "cell_type": "code",
      "execution_count": 6,
      "metadata": {
        "id": "q8o42xU-HJbm",
        "colab": {
          "base_uri": "https://localhost:8080/"
        },
        "outputId": "8c3838bf-dff1-4adf-ea13-e9598c18890e"
      },
      "outputs": [
        {
          "output_type": "stream",
          "name": "stdout",
          "text": [
            "우크라이나 기사\n",
            "21시간 전 은행권, '우크라이나' 피해기업 금융지원 잇따라(종합) http://www.newsis.com/view/?id=NISX20220308_0001786421&cID=10401&pID=10400\n",
            "3시간 전 폴란드, 우크라이나에 미그-29기 지원 결정 https://imnews.imbc.com/replay/2022/nw930/article/6348554_35736.html\n",
            "3시간 전 우크라이나 체르니히우서 지뢰 폭발로 어린이 등 6명 사상 http://www.kwnews.co.kr/nview.asp?aid=222030800144\n",
            "2시간 전 우크라이나 민간인 대피 통로 열려 [뉴시스Pic] http://www.newsis.com/view/?id=NISX20220309_0001787138&cID=10101&pID=10100\n",
            "1일 전 [단독]'의용군 참여' 이근, 우크라이나 입국 확인돼 https://www.news1.kr/articles/?4609094\n",
            "23시간 전 포스코인터, 우크라이나 난민 구호에 50만달러 기부 http://www.newsis.com/view/?id=NISX20220308_0001786156&cID=13001&pID=13000\n",
            "1일 전 “우크라이나에 평화를”…8일 서울꿈새김판 문안 공개 http://www.edaily.co.kr/news/newspath.asp?newsid=01157846632261352\n",
            "1일 전 KB국민은행, 우크라이나 사태 피해기업 금융지원 https://www.hankyung.com/economy/article/2022030816256\n",
            "22시간 전 '1000만달러 규모'… 정부, 우크라이나에 긴급 의료품 지원 http://moneys.mt.co.kr/news/mwView.php?no=2022030814018033521\n",
            "19시간 전 법무부, 우크라이나 동포·가족 사증 발급 간소화 http://yna.kr/AKR20220308145400004?did=1195m\n",
            "\n",
            "러시아 기사\n",
            "4시간 전 [속보] 맥도날드, 결국 러시아서 850개 매장 영업 중단…스타벅스도 철수 https://www.seoul.co.kr/news/newsView.php?id=20220309500012&wlog_tag3=naver\n",
            "9시간 전 [우크라 침공] 美, 러시아 원유 수입 금지…\"푸틴에 강력한 타격\"(종합2보) http://yna.kr/AKR20220309004052071?did=1195m\n",
            "4시간 전 \"눈에 보이는 것은 모두 쐈다\"…술취한 러시아군 총 맞고 숨진 우크라 소녀 [... http://news.mk.co.kr/newsRead.php?no=219650&year=2022\n",
            "3시간 전 피치, 러시아 국가신용등급 C로 하향…\"디폴트 직전 수준\" https://www.hankyung.com/economy/article/2022030937077\n",
            "11시간 전 미국, 러시아 원유·가스 수입금지 공식 발표 https://news.kbs.co.kr/news/view.do?ncd=5411716&ref=A\n",
            "1시간 전 러시아 원유 수입금지에 국제유가 ‘출렁’…한때 130달러 육박 https://biz.sbs.co.kr/article_hub/20000053621?division=NAVER\n",
            "15시간 전 ‘석유 메이저’ 셸, 러시아 원유 구입 중단 https://www.hani.co.kr/arti/international/international_general/1034102.html\n",
            "1일 전 JP모건 \"모든 채권지수서 러시아 제외\" http://www.newsis.com/view/?id=NISX20220308_0001785492&cID=10101&pID=10100\n",
            "11시간 전 [우크라 침공] 피자헛·KFC 모회사, 러시아 투자 중단…페라리도 \"안팔아\" http://yna.kr/AKR20220309003000111?did=1195m\n",
            "5시간 전 러시아 “우크라 주요 도시서 휴전…민간인 대피로 마련” https://biz.chosun.com/international/international_general/2022/03/09/PZVCK2INCRCSVOUQ3QJ4WG3SYI/?utm_source=naver&utm_medium=original&utm_campaign=biz\n",
            "\n",
            "우크라이나 전쟁 기사\n",
            "19시간 전 우크라이나 전쟁으로 세계 선박 물동량 80% 혼선 https://biz.chosun.com/international/international_economy/2022/03/08/R3MSSVFQIVDO3NDOUA2FQOO4RM/?utm_source=naver&utm_medium=original&utm_campaign=biz\n",
            "\n",
            "전쟁 기사\n",
            "12시간 전 [우크라 침공] 독일·스페인 검찰, 러시아 전쟁범죄 수사 착수(종합) http://yna.kr/AKR20220308174551082?did=1195m\n",
            "11시간 전 바이든 \"러 원유 수입금지\"…푸틴 전쟁 자금줄 틀어막는다 https://www.joongang.co.kr/article/25054011\n",
            "A18면 TOP 속속 빗장 거는 세계 곳간들…‘식량 전쟁’ 막 오르나 https://www.khan.co.kr/economy/finance/article/202203082304005\n",
            "13시간 전 정부, 우크라 동포 입국지원…여성단체는 전쟁 규탄 집회 http://www.newsis.com/view/?id=NISX20220308_0001786838&cID=10201&pID=10200\n",
            "18시간 전 충북모금회, 전쟁·산불 등 국내외 재난 피해 지원 특별모금 https://www.nocutnews.co.kr/news/5719922\n",
            "21시간 전 \"가장 큰 피해자 여성·아동\"…여성단체, 러시아 전쟁 규탄 http://www.newsis.com/view/?id=NISX20220308_0001786007&cID=10201&pID=10200\n",
            "1일 전 넷이즈게임즈, '반지의제왕: 전쟁의 시작' 사전예약 https://zdnet.co.kr/view/?no=20220308105527\n",
            "1일 전 어나니머스 \"러 국영 TV 해킹…우크라 전쟁 영상 송출\" http://www.newsis.com/view/?id=NISX20220308_0001785790&cID=10101&pID=10100\n",
            "1일 전 [게임인사이드]'서머너즈 워: 백년전쟁', C2X 생태계서 부활할까 http://www.bloter.net/newsView/blt202203080237\n",
            "17시간 전 북한, 대선일에도 대남 비난…“전쟁 준비 광분하고 있다” https://www.seoul.co.kr/news/newsView.php?id=20220309500028&wlog_tag3=naver\n",
            "\n"
          ]
        }
      ],
      "source": [
        "import requests\n",
        "from bs4 import BeautifulSoup\n",
        "\n",
        "firms = [\"우크라이나\", \"러시아\", \"우크라이나 전쟁\",\"전쟁\"]\n",
        "\n",
        "for firm in firms:\n",
        "    url = f\"https://search.naver.com/search.naver?query={firm}&where=news&ie=utf8&sm=nws_hty\"\n",
        "    res = requests.get(url)\n",
        "    res.raise_for_status()\n",
        "\n",
        "    soup = BeautifulSoup(res.text, \"lxml\")\n",
        "    soup_tit = soup.find_all(\"a\", attrs={\"class\": \"news_tit\"})\n",
        "    soup_info = soup.find_all(\"span\", attrs={\"class\": \"info\"})\n",
        "    print(f\"{firm} 기사\")\n",
        "    for tit, info in zip(soup_tit, soup_info):\n",
        "        if firm in tit.get_text():\n",
        "            print(f\"{info.get_text()} {tit.get_text()} {tit['href']}\")\n",
        "    print(\"\")\n",
        "\n",
        "\n",
        "\n",
        "\n"
      ]
    }
  ]
}