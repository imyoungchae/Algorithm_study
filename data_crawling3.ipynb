{
  "nbformat": 4,
  "nbformat_minor": 0,
  "metadata": {
    "colab": {
      "name": "data_crawling3.ipynb",
      "provenance": [],
      "authorship_tag": "ABX9TyPt/H9s30mYag8/RQQQjJHf",
      "include_colab_link": true
    },
    "kernelspec": {
      "name": "python3",
      "display_name": "Python 3"
    },
    "language_info": {
      "name": "python"
    }
  },
  "cells": [
    {
      "cell_type": "markdown",
      "metadata": {
        "id": "view-in-github",
        "colab_type": "text"
      },
      "source": [
        "<a href=\"https://colab.research.google.com/github/imyoungchae/Python_study/blob/main/data_crawling3.ipynb\" target=\"_parent\"><img src=\"https://colab.research.google.com/assets/colab-badge.svg\" alt=\"Open In Colab\"/></a>"
      ]
    },
    {
      "cell_type": "code",
      "execution_count": 5,
      "metadata": {
        "id": "q8o42xU-HJbm",
        "colab": {
          "base_uri": "https://localhost:8080/"
        },
        "outputId": "a80f5a7e-5b93-4ca0-9483-96e7e36abbea"
      },
      "outputs": [
        {
          "output_type": "stream",
          "name": "stdout",
          "text": [
            "우크라이나 기사\n",
            "21시간 전 은행권, '우크라이나' 피해기업 금융지원 잇따라(종합) http://www.newsis.com/view/?id=NISX20220308_0001786421&cID=10401&pID=10400\n",
            "28분 전 폴란드, 우크라이나에 미그-29기 지원 결정 https://imnews.imbc.com/replay/2022/nw1200/article/6348586_35715.html\n",
            "3시간 전 우크라이나 체르니히우서 지뢰 폭발로 어린이 등 6명 사상 http://www.kwnews.co.kr/nview.asp?aid=222030800144\n",
            "2시간 전 우크라이나 민간인 대피 통로 열려 [뉴시스Pic] http://www.newsis.com/view/?id=NISX20220309_0001787138&cID=10101&pID=10100\n",
            "1일 전 [단독]'의용군 참여' 이근, 우크라이나 입국 확인돼 https://www.news1.kr/articles/?4609094\n",
            "22시간 전 포스코인터, 우크라이나 난민 구호에 50만달러 기부 http://www.newsis.com/view/?id=NISX20220308_0001786156&cID=13001&pID=13000\n",
            "1일 전 “우크라이나에 평화를”…8일 서울꿈새김판 문안 공개 http://www.edaily.co.kr/news/newspath.asp?newsid=01157846632261352\n",
            "1일 전 KB국민은행, 우크라이나 사태 피해기업 금융지원 https://www.hankyung.com/economy/article/2022030816256\n",
            "22시간 전 '1000만달러 규모'… 정부, 우크라이나에 긴급 의료품 지원 http://moneys.mt.co.kr/news/mwView.php?no=2022030814018033521\n",
            "19시간 전 법무부, 우크라이나 동포·가족 사증 발급 간소화 http://yna.kr/AKR20220308145400004?did=1195m\n",
            "\n",
            "러시아 기사\n",
            "9시간 전 [우크라 침공] 美, 러시아 원유 수입 금지…\"푸틴에 강력한 타격\"(종합2보) http://yna.kr/AKR20220309004052071?did=1195m\n",
            "5시간 전 “10살 우크라 소녀, 술 취한 러시아 군인 총기 난사에 숨져” https://www.seoul.co.kr/news/newsView.php?id=20220309500007&wlog_tag3=naver\n",
            "3시간 전 맥도날드 스타벅스 코카 펩시 GE도 러시아에서 철수 발표 http://www.newsis.com/view/?id=NISX20220309_0001787015&cID=10101&pID=10100\n",
            "3시간 전 피치, 러시아 국가신용등급 C로 하향…\"디폴트 직전 수준\" https://www.hankyung.com/economy/article/2022030937077\n",
            "10시간 전 미국, 러시아 원유·가스 수입금지 공식 발표 https://news.kbs.co.kr/news/view.do?ncd=5411716&ref=A\n",
            "1시간 전 러시아 원유 수입금지에 국제유가 ‘출렁’…한때 130달러 육박 https://biz.sbs.co.kr/article_hub/20000053621?division=NAVER\n",
            "20시간 전 바이든, 문 대통령에 '러시아 제재' 감사 편지 \"한국 리더십 중요\" http://mbn.mk.co.kr/pages/news/newsView.php?category=mbn00008&news_seq_no=4713657\n",
            "15시간 전 ‘석유 메이저’ 셸, 러시아 원유 구입 중단 https://www.hani.co.kr/arti/international/international_general/1034102.html\n",
            "1일 전 JP모건 \"러시아, 모든 채권지수서 제외\" https://www.khan.co.kr/world/world-general/article/202203080811011\n",
            "11시간 전 [우크라 침공] 피자헛·KFC 모회사, 러시아 투자 중단…페라리도 \"안팔아\" http://yna.kr/AKR20220309003000111?did=1195m\n",
            "\n",
            "전쟁 기사\n",
            "A18면 TOP 속속 빗장 거는 세계 곳간들…‘식량 전쟁’ 막 오르나 https://www.khan.co.kr/economy/finance/article/202203082304005\n",
            "13시간 전 정부, 우크라 동포 입국지원…여성단체는 전쟁 규탄 집회 http://www.newsis.com/view/?id=NISX20220308_0001786838&cID=10201&pID=10200\n",
            "17시간 전 경남모금회, 산불·우크라이나전쟁 피해 지원 특별모금 http://yna.kr/AKR20220308107100052?did=1195m\n",
            "22시간 전 \"가장 큰 피해자 여성·아동\"…여성단체, 러시아 전쟁 규탄 http://www.newsis.com/view/?id=NISX20220308_0001786007&cID=10201&pID=10200\n",
            "23시간 전 넷이즈게임즈, '반지의제왕: 전쟁의 시작' 사전예약 https://zdnet.co.kr/view/?no=20220308105527\n",
            "1일 전 어나니머스 \"러 국영 TV 해킹…우크라 전쟁 영상 송출\" http://www.newsis.com/view/?id=NISX20220308_0001785790&cID=10101&pID=10100\n",
            "1일 전 바이든 \"러 원유 수입금지\"…푸틴 전쟁 자금줄 틀어막는다 https://www.joongang.co.kr/article/25054011\n",
            "11시간 전 [게임인사이드]'서머너즈 워: 백년전쟁', C2X 생태계서 부활할까 http://www.bloter.net/newsView/blt202203080237\n",
            "16시간 전 북한, 대선일에도 대남 비난…“전쟁 준비 광분하고 있다” https://www.seoul.co.kr/news/newsView.php?id=20220309500028&wlog_tag3=naver\n",
            "1시간 전 [현장] 전쟁 중에도 지켜내려는 마음의 조각들 https://www.hani.co.kr/arti/international/europe/1034144.html\n",
            "\n"
          ]
        }
      ],
      "source": [
        "import requests\n",
        "from bs4 import BeautifulSoup\n",
        "\n",
        "firms = [\"우크라이나\", \"러시아\", \"전쟁\"]\n",
        "\n",
        "for firm in firms:\n",
        "    url = f\"https://search.naver.com/search.naver?query={firm}&where=news&ie=utf8&sm=nws_hty\"\n",
        "    res = requests.get(url)\n",
        "    res.raise_for_status()\n",
        "\n",
        "    soup = BeautifulSoup(res.text, \"lxml\")\n",
        "    soup_tit = soup.find_all(\"a\", attrs={\"class\": \"news_tit\"})\n",
        "    soup_info = soup.find_all(\"span\", attrs={\"class\": \"info\"})\n",
        "    print(f\"{firm} 기사\")\n",
        "    for tit, info in zip(soup_tit, soup_info):\n",
        "        if firm in tit.get_text():\n",
        "            print(f\"{info.get_text()} {tit.get_text()} {tit['href']}\")\n",
        "    print(\"\")\n",
        "\n",
        "\n",
        "\n",
        "\n"
      ]
    }
  ]
}