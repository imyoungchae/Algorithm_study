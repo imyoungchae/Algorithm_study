{
  "nbformat": 4,
  "nbformat_minor": 0,
  "metadata": {
    "colab": {
      "name": "알고리즘 Day9",
      "provenance": [],
      "collapsed_sections": [],
      "authorship_tag": "ABX9TyOZVlnOf8dCC7UkW++I2Fl1",
      "include_colab_link": true
    },
    "kernelspec": {
      "name": "python3",
      "display_name": "Python 3"
    },
    "language_info": {
      "name": "python"
    }
  },
  "cells": [
    {
      "cell_type": "markdown",
      "metadata": {
        "id": "view-in-github",
        "colab_type": "text"
      },
      "source": [
        "<a href=\"https://colab.research.google.com/github/imyoungchae/YoungChaeSon/blob/main/%EC%95%8C%EA%B3%A0%EB%A6%AC%EC%A6%98_Day9.ipynb\" target=\"_parent\"><img src=\"https://colab.research.google.com/assets/colab-badge.svg\" alt=\"Open In Colab\"/></a>"
      ]
    },
    {
      "cell_type": "markdown",
      "source": [
        "#주어진 주식 가격을 보고 얻을 수 있는 최대 수익을 구하는 알고리즘"
      ],
      "metadata": {
        "id": "cFI-yOW6YtGw"
      }
    },
    {
      "cell_type": "markdown",
      "source": [
        "-입력: 주식 가격의 변화 값(리스트: prices)\n",
        "\n",
        "-출력: 한 주를 한 번 사고팔아 얻을 수 있는 최대 수익 값"
      ],
      "metadata": {
        "id": "2w9HpIVXYxWY"
      }
    },
    {
      "cell_type": "markdown",
      "source": [
        "이 경우 비교 횟수는 n(n-1)//2번 \n",
        "\n",
        "계산 복잡도는 O(n^2)\n",
        "\n",
        "for 루프가 두 번"
      ],
      "metadata": {
        "id": "OdeVXxaKaEqQ"
      }
    },
    {
      "cell_type": "code",
      "execution_count": 2,
      "metadata": {
        "colab": {
          "base_uri": "https://localhost:8080/"
        },
        "id": "cltK5aJsYHRI",
        "outputId": "9376679c-f6a1-4d79-98f5-fb2a68731105"
      },
      "outputs": [
        {
          "output_type": "stream",
          "name": "stdout",
          "text": [
            "2400\n"
          ]
        }
      ],
      "source": [
        "def max_profit(prices):\n",
        "  n=len(prices)\n",
        "  max_profit=0 # 최대 수익은 항상 0 이상의 값\n",
        "\n",
        "  for i in range(0,n-1):\n",
        "    for j in range(i+1,n):\n",
        "      # 이 경우 비교 횟수는 n(n-1)//2번 계산 복잡도는 O(n^2)\n",
        "\n",
        "      profit=prices[j]-prices[i] # i날에 사서 j날에 팔았을 때 얻을 수 있는 수익\n",
        "      if profit>max_profit: # 이 수익이 지금까지 최대 수익보다 크면 값을 고침\n",
        "        max_profit=profit\n",
        "\n",
        "  return max_profit\n",
        "\n",
        "stock=[10300,9600,9800,8200,7800,8300,9500,9800,10200,9500]\n",
        "print(max_profit(stock))"
      ]
    },
    {
      "cell_type": "markdown",
      "source": [
        "**더 좋은 알고리즘**\n",
        "\n",
        "-입력: 주식 가격의 변화 값(리스트: prices)\n",
        "\n",
        "-출력: 한 주를 한 번 사고팔아 얻을 수 있는 최대 수익 값"
      ],
      "metadata": {
        "id": "GrXYahbRaomf"
      }
    },
    {
      "cell_type": "markdown",
      "source": [
        "이 경우 계산 복잡도는 O(n)\n",
        "\n",
        "for 루프가 한 번 뿐이다"
      ],
      "metadata": {
        "id": "wliS44ZLbeTv"
      }
    },
    {
      "cell_type": "code",
      "source": [
        "def max_profit(prices):\n",
        "  n=len(prices)\n",
        "  max_profit=0 # 최대 수익은 항상 0 이상의 값\n",
        "  min_price=prices[0]#첫째 날의 주가를 주가의 최솟값으로 기억\n",
        "\n",
        "  for i in range(1,n):\n",
        "      profit=prices[i]-min_price # 지금가지의 최솟값에 주식을 사서 i날에 팔 수익\n",
        "      if profit>max_profit: # 이 수익이 지금까지 최대 수익보다 크면 값을 고침\n",
        "        max_profit=profit\n",
        "      if prices[i]<min_price: #i날 주가가 최솟값보다 작으면 값을 고침\n",
        "        min_price=prices[i]\n",
        "\n",
        "  return max_profit\n",
        "\n",
        "stock=[10300,9600,9800,8200,7800,8300,9500,9800,10200,9500]\n",
        "print(max_profit(stock))"
      ],
      "metadata": {
        "colab": {
          "base_uri": "https://localhost:8080/"
        },
        "id": "6oLCagmmas-3",
        "outputId": "0c895f0f-5a38-4ebe-cd46-a9c05c8e7ff3"
      },
      "execution_count": 3,
      "outputs": [
        {
          "output_type": "stream",
          "name": "stdout",
          "text": [
            "2400\n"
          ]
        }
      ]
    },
    {
      "cell_type": "markdown",
      "source": [
        "#최대 수익 문제를 푸는 두 알고리즘의 계산속도 비교하기"
      ],
      "metadata": {
        "id": "hLDsuWaAdK8n"
      }
    },
    {
      "cell_type": "markdown",
      "source": [
        "- 최대 수익 문제를 O(n^2)과 O(n)으로 푸는 알고리즘을 각각 수행하여 걸린 시간을 출력/비교\n",
        "- 잘 응용하여 알고리즘의 계산속도 비교하는데 쓸 수 있음"
      ],
      "metadata": {
        "id": "nnWZw9zddOv_"
      }
    },
    {
      "cell_type": "code",
      "source": [
        "import time# 시간 측정을 위한 time 모듈\n",
        "import random# 테스트 주가 생성을 위한 random 모듈\n",
        "\n",
        "#알고리즘 1 : O(n^2)\n",
        "#최대수익: 느린 O(n^2) 알고리즘\n",
        "def max_profit_slow(prices):\n",
        "  n = len(prices)\n",
        "  max_profit = 0\n",
        "\n",
        "  for i in range(0, n-1):\n",
        "    for j in range(i+1, n):\n",
        "      profit = prices[j] - prices[i]\n",
        "      if profit > max_profit:\n",
        "        max_profit = profit\n",
        "  return max_profit\n",
        "\n",
        "\n",
        "#알고리즘 2 : O(n)\n",
        "#최대 수익: 빠른 O(n) 알고리즘\n",
        "def max_profit_fast(prices):\n",
        "  n = len(prices)\n",
        "  max_profit = 0\n",
        "  min_price = prices[0]\n",
        "  for i in range(1, n):\n",
        "    profit = prices[i] - min_price\n",
        "    if profit > max_profit:\n",
        "      max_profit = profit\n",
        "    if prices[i] < min_price:\n",
        "      min_price = prices[i]\n",
        "  return max_profit\n",
        "\n",
        "#계산속도 비교\n",
        "def test(n):\n",
        "  a = []\n",
        "  for i in range(0, n):\n",
        "    a.append(random.randint(5000, 20000))\n",
        "  start = time.time()# 계산 시작 직전 시각을 기억\n",
        "  mps = max_profit_slow(a)#계산 수행\n",
        "  end = time.time()# 계산 시작 직후 시간을 기억\n",
        "  time_slow = end - start# 두 시각을 빼면 계산에 걸린 시간 \n",
        "\n",
        "  start = time.time()\n",
        "  mpf = max_profit_fast(a)\n",
        "  end = time.time()\n",
        "  time_fast = end - start\n",
        "\n",
        "  print(n, mps, mpf) # 입력 크기, 각각 알고리즘이 계산한 최대 수익 값(같아야 함)\n",
        "\n",
        "  m = 0# 느린 알고리즘과 빠른 알고리즘의 수해 시간 비율을 저장할 변수\n",
        "\n",
        "  if time_fast > 0: # 컴퓨터 환경에 따라 빠른 알고리즘 시간이 0으로 측정될 수 있음(이럴 때는 0을 출력)\n",
        "    m = time_slow / time_fast\n",
        "  print(\"%d %.5f %.5f %.2f\" %(n, time_slow, time_fast, m))\n",
        "\n",
        "test(100)\n",
        "test(1000)"
      ],
      "metadata": {
        "colab": {
          "base_uri": "https://localhost:8080/"
        },
        "id": "pNuWCKYtiY3g",
        "outputId": "bf844fc9-29ba-4737-bc92-6036b3243d6c"
      },
      "execution_count": 20,
      "outputs": [
        {
          "output_type": "stream",
          "name": "stdout",
          "text": [
            "100 14571 14571\n",
            "100 0.00063 0.00002 28.25\n",
            "1000 14946 14946\n",
            "1000 0.07438 0.00019 381.86\n"
          ]
        }
      ]
    },
    {
      "cell_type": "markdown",
      "source": [
        "#자료구조 기초"
      ],
      "metadata": {
        "id": "R6BtS_U-npVA"
      }
    },
    {
      "cell_type": "markdown",
      "source": [
        "*Q1.  Lee,101 이 출력되게 하려면?(함수 작성)*"
      ],
      "metadata": {
        "id": "nmA-VKTDpckg"
      }
    },
    {
      "cell_type": "code",
      "source": [
        "class Student:\n",
        "  def __init__(self,name,id):\n",
        "    self.name = name\n",
        "    self.id=id\n",
        "  def get_name(self):\n",
        "    return self.name\n",
        "  def get_id(self):\n",
        "    return self.id\n",
        "\n",
        "\n",
        "best = Student('Lee',101)\n",
        "print(best.get_name())\n",
        "print(best.get_id())"
      ],
      "metadata": {
        "colab": {
          "base_uri": "https://localhost:8080/"
        },
        "id": "REsahZpij8PA",
        "outputId": "7d510b59-9275-47b7-bf34-c551dd6bcdf4"
      },
      "execution_count": 19,
      "outputs": [
        {
          "output_type": "stream",
          "name": "stdout",
          "text": [
            "Lee\n",
            "101\n"
          ]
        }
      ]
    },
    {
      "cell_type": "markdown",
      "source": [
        "*Q2. 40,60,[10,70,90],3이 출력되려면?(append와 pop을 이용)*"
      ],
      "metadata": {
        "id": "_XdtcDS7pmE4"
      }
    },
    {
      "cell_type": "code",
      "source": [
        "a=[] # 비어있는 리스트 a 선언\n",
        "b=[None]*10 # 크기가 10이고 각 원소가 None으로 초기화된 리스트\n",
        "c=[40,10,70,60] # 크기가 4이고 4개의 정수로 초기화된 리스트\n",
        "\n",
        "\n",
        "print(c[0]) # 40출력\n",
        "\n",
        "print(c.pop()) # 60출력\n",
        "\n",
        "c.pop(0)\n",
        "c.append(90)\n",
        "print(c) # [10,70,90] 출력\n",
        "\n",
        "print(len(c)) # 3 출력"
      ],
      "metadata": {
        "colab": {
          "base_uri": "https://localhost:8080/"
        },
        "id": "pireJey9nWd5",
        "outputId": "4bd7d00e-d0d2-4a2f-86a0-7ab627d54d5d"
      },
      "execution_count": 30,
      "outputs": [
        {
          "output_type": "stream",
          "name": "stdout",
          "text": [
            "40\n",
            "60\n",
            "[10, 70, 90]\n",
            "3\n"
          ]
        }
      ]
    },
    {
      "cell_type": "markdown",
      "source": [
        "**내장함수**\n",
        "1. ord('문자'): 문자의 유니코드 값을 리턴\n",
        "예)ord('A')=65\n",
        "\n",
        "2. list(reversed(리스트)): 역순으로 된 리스트를 리턴\n",
        "3. 리스트.reverse(): 리스트를 역순으로\n",
        "\n",
        "  (2번과 3번 둘의 차이: list(reversed(리스트))는 원본 바뀌지 않지만 리스트.reverse()는 원본 바뀐다.)\n",
        "\n",
        "4. lambda 함수: 함수의 이름도 return도 없이 수행되는 함수\n",
        "lambda 인자(arguments): 식(expression)\n",
        "lambda함수는 filter() 또는 map() 함수의 인자로 사용"
      ],
      "metadata": {
        "id": "Kb8AETJaqkiw"
      }
    },
    {
      "cell_type": "markdown",
      "source": [
        "lambda 함수는 매우 중요하다. \n",
        "일회용으로 쓸 함수를 간단히 만드는 기능\n",
        "\n",
        "밑은 lambda의 예제"
      ],
      "metadata": {
        "id": "TAcwYIkHsJFB"
      }
    },
    {
      "cell_type": "markdown",
      "source": [
        "map(function, iterable)\n",
        "\n",
        "map 함수의 모양은 위와 같습니다.\n",
        "첫 번째 매개변수로는 함수가 오고\n",
        "두 번째 매개변수로는 반복 가능한 자료형(리스트, 튜플 등)이 옵니다.\n",
        "\n",
        "map 함수의 반환 값은 map객체 이기 때문에 해당 자료형을 list 혹은 tuple로 형 변환시켜주어야 합니다.\n",
        "\n",
        "\n",
        "\n",
        "출처: https://blockdmask.tistory.com/531 [개발자 지망생]"
      ],
      "metadata": {
        "id": "dQEPzUSEtSOh"
      }
    },
    {
      "cell_type": "code",
      "source": [
        "a=[1,5,4,6,8,11,8,3,12]\n",
        "\n",
        "even=list(filter(lambda x: (x%2==0),a)) # x가 2로 나눠서 나머지가 0인 것들만 리스트에 넣는다\n",
        "print(even)\n",
        "\n",
        "tem_times=list(map(lambda x: x*10,a)) # x*10을 계산한 값을 리스트에 넣는다\n",
        "print(tem_times)\n",
        "\n",
        "b=[[0,1,8],[7,1,2],[5,3,10],[1,4,5]]\n",
        "b.sort(key=lambda x: x[2]) # x의 두번째 인덱스 값을 기준으로 sort하라는 뜻\n",
        "print(b)"
      ],
      "metadata": {
        "colab": {
          "base_uri": "https://localhost:8080/"
        },
        "id": "mBgDrpQ3rdG5",
        "outputId": "7e2a6541-c96d-4ca2-c142-8f87965d2127"
      },
      "execution_count": 31,
      "outputs": [
        {
          "output_type": "stream",
          "name": "stdout",
          "text": [
            "[4, 6, 8, 8, 12]\n",
            "[10, 50, 40, 60, 80, 110, 80, 30, 120]\n",
            "[[7, 1, 2], [1, 4, 5], [0, 1, 8], [5, 3, 10]]\n"
          ]
        }
      ]
    }
  ]
}
