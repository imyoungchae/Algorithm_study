{
  "nbformat": 4,
  "nbformat_minor": 0,
  "metadata": {
    "colab": {
      "name": "matrix1.ipynb",
      "provenance": [],
      "authorship_tag": "ABX9TyOoOKyuWJH7lZYUJwMJXTLT",
      "include_colab_link": true
    },
    "kernelspec": {
      "name": "python3",
      "display_name": "Python 3"
    },
    "language_info": {
      "name": "python"
    }
  },
  "cells": [
    {
      "cell_type": "markdown",
      "metadata": {
        "id": "view-in-github",
        "colab_type": "text"
      },
      "source": [
        "<a href=\"https://colab.research.google.com/github/imyoungchae/Python_study/blob/main/matrix1.ipynb\" target=\"_parent\"><img src=\"https://colab.research.google.com/assets/colab-badge.svg\" alt=\"Open In Colab\"/></a>"
      ]
    },
    {
      "cell_type": "code",
      "execution_count": 6,
      "metadata": {
        "colab": {
          "base_uri": "https://localhost:8080/"
        },
        "id": "56wZrRg-9ecK",
        "outputId": "3c8304b3-a35d-4447-92c0-aef5a393eea5"
      },
      "outputs": [
        {
          "output_type": "stream",
          "name": "stdout",
          "text": [
            "rank: tf.Tensor(2, shape=(), dtype=int32)\n",
            "matl: tf.Tensor(\n",
            "[[10 20]\n",
            " [30 40]], shape=(2, 2), dtype=int32)\n"
          ]
        }
      ],
      "source": [
        "import tensorflow as tf\n",
        "\n",
        "# 2차원 배열 정의\n",
        "list_of_list=[[10,20],[30,40]]\n",
        "\n",
        "# 텐서 변환(constant 함수에 2차원 배열 입력)\n",
        "mat1=tf.constant(list_of_list)\n",
        "\n",
        "# 랭크 확인\n",
        "print(\"rank:\",tf.rank(mat1))\n",
        "\n",
        "# 텐서 출력\n",
        "print(\"matl:\",mat1)"
      ]
    },
    {
      "cell_type": "code",
      "source": [
        "# 2차원 행렬에 스칼라 값 곱하기\n",
        "element_bc=tf.math.multiply(mat1,3)\n",
        "print(\"*3 result:\",element_bc)\n",
        "print(\"*3 rank:\",tf.rank(element_bc))\n",
        "print()\n",
        "\n",
        "element_bc1=tf.math.multiply(mat1,5)\n",
        "print(\"*5 result:\",element_bc1)\n",
        "print(\"*5 rank:\",tf.rank(element_bc1))"
      ],
      "metadata": {
        "colab": {
          "base_uri": "https://localhost:8080/"
        },
        "id": "9WTUawVc-KWj",
        "outputId": "86ec7ce8-a461-49df-81c3-788343429319"
      },
      "execution_count": 7,
      "outputs": [
        {
          "output_type": "stream",
          "name": "stdout",
          "text": [
            "*3 result: tf.Tensor(\n",
            "[[ 30  60]\n",
            " [ 90 120]], shape=(2, 2), dtype=int32)\n",
            "*3 rank: tf.Tensor(2, shape=(), dtype=int32)\n",
            "\n",
            "*5 result: tf.Tensor(\n",
            "[[ 50 100]\n",
            " [150 200]], shape=(2, 2), dtype=int32)\n",
            "*5 rank: tf.Tensor(2, shape=(), dtype=int32)\n"
          ]
        }
      ]
    },
    {
      "cell_type": "code",
      "source": [
        "# 행렬 곱 연산\n",
        "matrix_1=[[1,2],[3,4]]\n",
        "matrix_2=[[10,20],[30,40]]\n",
        "matr1=tf.constant(matrix_1)\n",
        "matr2=tf.constant(matrix_2)\n",
        "\n",
        "print(\"matr1: \",matr1)\n",
        "print()\n",
        "print(\"matr2: \",matr2)\n",
        "print()\n",
        "\n",
        "mat_mul=tf.matmul(matr1,matr2)\n",
        "print(\"result:\",mat_mul)\n",
        "print(\"result rank:\",tf.rank(mat_mul))"
      ],
      "metadata": {
        "colab": {
          "base_uri": "https://localhost:8080/"
        },
        "id": "QrckZN28-4jb",
        "outputId": "d5a548d6-03db-4cae-902d-2db1a060ce65"
      },
      "execution_count": 9,
      "outputs": [
        {
          "output_type": "stream",
          "name": "stdout",
          "text": [
            "matr1:  tf.Tensor(\n",
            "[[1 2]\n",
            " [3 4]], shape=(2, 2), dtype=int32)\n",
            "\n",
            "matr2:  tf.Tensor(\n",
            "[[10 20]\n",
            " [30 40]], shape=(2, 2), dtype=int32)\n",
            "\n",
            "result: tf.Tensor(\n",
            "[[ 70 100]\n",
            " [150 220]], shape=(2, 2), dtype=int32)\n",
            "result rank: tf.Tensor(2, shape=(), dtype=int32)\n"
          ]
        }
      ]
    },
    {
      "cell_type": "code",
      "source": [
        "# 행렬 덧셈 계산\n",
        "add_matr=tf.math.add(matr1,matr2)\n",
        "print(\"result:\",add_matr)\n",
        "print(\"result rank:\",tf.rank(add_matr))"
      ],
      "metadata": {
        "colab": {
          "base_uri": "https://localhost:8080/"
        },
        "id": "y2-le9U1AbqD",
        "outputId": "6f5d224c-9d10-489d-a0d9-a2a410b02333"
      },
      "execution_count": 10,
      "outputs": [
        {
          "output_type": "stream",
          "name": "stdout",
          "text": [
            "result: tf.Tensor(\n",
            "[[11 22]\n",
            " [33 44]], shape=(2, 2), dtype=int32)\n",
            "result rank: tf.Tensor(2, shape=(), dtype=int32)\n"
          ]
        }
      ]
    }
  ]
}