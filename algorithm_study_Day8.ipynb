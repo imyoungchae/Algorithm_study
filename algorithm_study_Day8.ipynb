{
  "nbformat": 4,
  "nbformat_minor": 0,
  "metadata": {
    "colab": {
      "name": "알고리즘 Day8",
      "provenance": [],
      "collapsed_sections": [],
      "authorship_tag": "ABX9TyPAy5sWKX5pnPhBvnSeVvsI",
      "include_colab_link": true
    },
    "kernelspec": {
      "name": "python3",
      "display_name": "Python 3"
    },
    "language_info": {
      "name": "python"
    }
  },
  "cells": [
    {
      "cell_type": "markdown",
      "metadata": {
        "id": "view-in-github",
        "colab_type": "text"
      },
      "source": [
        "<a href=\"https://colab.research.google.com/github/imyoungchae/YoungChaeSon/blob/main/%EC%95%8C%EA%B3%A0%EB%A6%AC%EC%A6%98_Day8.ipynb\" target=\"_parent\"><img src=\"https://colab.research.google.com/assets/colab-badge.svg\" alt=\"Open In Colab\"/></a>"
      ]
    },
    {
      "cell_type": "markdown",
      "source": [
        "# 그래프\n",
        "꼭짓점 여러개와 각 꼭짓점 사이의 연결 관계를 선으로 표현한 것을 그래프라고 함\n"
      ],
      "metadata": {
        "id": "tr6SnwQPOEPw"
      }
    },
    {
      "cell_type": "markdown",
      "source": [
        "파이썬으로 그래프 표현하기\n",
        "- 리스트와 딕셔너리를 이용해서 그래프를 표현하는 방법\n",
        "- 일단 그래프를 표현하려면 각 꼭짓점의 정보부터 저장해야 함\n",
        "- 딕셔녀리에 키와 키에 대응하는 값 필요\n",
        "- 그래프를 표현하려면 어떤 값을 키로 연결해야 할까? => 각 꼭짓점에 직접 연결된 다른 꼭짓점들의 리스트를 만들어서 키에 대응하는 값으로 적어주면 된다\n",
        "ex) 'Summer':['John','Justin']"
      ],
      "metadata": {
        "id": "qdndNCs-ONjG"
      }
    },
    {
      "cell_type": "code",
      "source": [
        "fr_info={\n",
        "    'Summer':['John','Justin','Mike'],\n",
        "    'John':['Summer','Justin'],\n",
        "    'Justin':['John','Summer','Mike','May'],\n",
        "    'Mike':['Summer','Justin'],\n",
        "    'May':['Kim','Justin'],\n",
        "    'Kim':['May'],\n",
        "    'Tom':['Jerry'],\n",
        "    'Jerry':['Tom'],\n",
        "}\n"
      ],
      "metadata": {
        "id": "ZWyBcq_MPG2y"
      },
      "execution_count": 16,
      "outputs": []
    },
    {
      "cell_type": "markdown",
      "source": [
        "Summer에 대응하는 리스트에 John이 있으면 John이 대응하는 리스트에도 Summer가 있음"
      ],
      "metadata": {
        "id": "ooB5H6SLPm6h"
      }
    },
    {
      "cell_type": "code",
      "source": [
        "def print_all_friends(g,start):\n",
        "  qu=[] #기억장소1 : 앞으로 처리해야 할 사람들을 큐에 저장\n",
        "  done=set() #기억장소2 : 이미 큐에 추가한 사람들을 집합에 기록(중복방지)\n",
        "  \n",
        "  qu.append((start,0)) #(사람 이름,친밀도) 정보를 하나의 튜플로 묶어 처리\n",
        "  done.add(start) #집합에도 추가\n",
        "\n",
        "  while qu: #큐에 처리할 사람이 남아있는 동안\n",
        "    (p,d)=qu.pop(0) #큐에서 (사람 이름, 친밀도) 정보를 p와 d로 각각 꺼냄\n",
        "    print(p,d) #사람 이름과 친밀도를 출력\n",
        "    for x in g[p]: #친구들중에\n",
        "      if x not in done: #아직 큐에 추가된 적이 없는 사람을\n",
        "        qu.append((x,d+1)) #친밀도를 1 증가시켜 큐에 추가하고\n",
        "        done.add(x) #집합에도 추가\n"
      ],
      "metadata": {
        "id": "x2GxyswTPpx3"
      },
      "execution_count": 17,
      "outputs": []
    },
    {
      "cell_type": "markdown",
      "source": [
        "1) 앞으로 처리할 사람을 저장할 큐(qu)를 만듬\\\n",
        "2) 이미 큐에 추가한 사람을 저장할 집합(done)을 만듬\\\n",
        "3) 검색의 출발점이 될 사람을 큐(qu)와 집합(done)에 추가\\\n",
        "4) 큐에 사람이 남아있다면 큐에서 처리할 사람을 꺼냄\\\n",
        "5) 꺼낸 사람을 출력\\\n",
        "6) 꺼낸 사람의 친구들 중 아직 큐(qu)에 추가된 적이 없는 사람을 큐(qu)와 집합(done)에 추가\\\n",
        "7) 큐에 처리할 사람이 남아있다면 4번 과정부터 다시 반복"
      ],
      "metadata": {
        "id": "GvzxFJiUPsvo"
      }
    },
    {
      "cell_type": "markdown",
      "source": [
        "-그래프 응용"
      ],
      "metadata": {
        "id": "uK6h8CxodYAL"
      }
    },
    {
      "cell_type": "code",
      "source": [
        "\n",
        "def bfs(g,start):\n",
        "  qu=[] #기억장소1 : 앞으로 처리해야 할 사람들을 큐에 저장\n",
        "  done=set() #기억장소2 : 이미 큐에 추가한 사람들을 집합에 기록(중복방지)\n",
        "  \n",
        "  qu.append(start) #시작점을 큐에 넣고 시작\n",
        "  done.add(start) #집합에도 추가\n",
        "\n",
        "  while qu: #큐에 처리할 꼭짓점이 남아있으면\n",
        "    p=qu.pop(0) #큐에서 처리 대상을 꺼내어\n",
        "    print(p) #꼭짓점 이름을 출력하고\n",
        "    for x in g[p]: #대상 꼭짓점에 연결된 꼭짓점들 중에\n",
        "      if x not in done: #아직 큐에 추가된 적이 없는 꼭짓점들을\n",
        "        qu.append(x) #큐에 추가하고\n",
        "        done.add(x) #집합에도 추가\n",
        "\n",
        "#그래프 정보\n",
        "g={\n",
        "  1:[2,3],\n",
        "  2:[1,4,5],\n",
        "  3:[5],\n",
        "  4:[2],\n",
        "  5:[3],\n",
        "}\n",
        "bfs(g,5)\n",
        "print()\n",
        "bfs(g,1)\n"
      ],
      "metadata": {
        "colab": {
          "base_uri": "https://localhost:8080/"
        },
        "id": "y6aiaw6zTsKS",
        "outputId": "99f0263c-3d04-4f45-af5f-7ffd970c35d5"
      },
      "execution_count": 8,
      "outputs": [
        {
          "output_type": "stream",
          "name": "stdout",
          "text": [
            "5\n",
            "3\n",
            "\n",
            "1\n",
            "2\n",
            "3\n",
            "4\n",
            "5\n"
          ]
        }
      ]
    },
    {
      "cell_type": "markdown",
      "source": [
        "#미로 찾기 프로그램(그래프 탐색)"
      ],
      "metadata": {
        "id": "umi0FLp6bNuL"
      }
    },
    {
      "cell_type": "markdown",
      "source": [
        "-입력:미로 정보 g, 출발점 start, 도착점 end\\\n",
        "-출력: 미로를 나가기 위한 이동 경로는 문자열, 나갈 수 없는 미로면 물음표"
      ],
      "metadata": {
        "id": "ENaa-ou-bQUy"
      }
    },
    {
      "cell_type": "code",
      "source": [
        "def slove_maze(g,start,end):\n",
        "  qu=[] # 기억 장소1: 앞으로 처리해야 할 이동 경로를 큐에 저장\n",
        "  done=set() # 기억 장소2: 이미 큐에 추가한 꼭짓점들을 집합에 기록(중복 방지)\n",
        "  \n",
        "  qu.append(start) # 출발점을 큐에 넣고 시작\n",
        "  done.add(start) # 집합에도 추가\n",
        "\n",
        "  while qu: # 큐에 처리할 경로가 남아 있으면\n",
        "    p=qu.pop(0) # 큐에서 처리 대상을 꺼낸다\n",
        "    v=p[-1] # 큐에 저장된 이동 경로의 마지막 문자가 현재 처리해야 할 꼭짓점\n",
        "    if v == end:# 처리해야 할 꼭짓점이 도착점이면(목적지 도착)\n",
        "      return p # 지금까지의 전체 이동 경로를 돌려주고 종료\n",
        "    for x in g[v]: # 대상 꼭짓점에 연결된 꼭짓점들 중에\n",
        "      if x not in done: # 아직 큐에 추가된 적이 없는 꼭짓점을\n",
        "        qu.append(p+x) # 이동 경로에 새 꼭짓점으로 추가하여 큐에 저장하고\n",
        "        done.add(x) # 집합에도 추가함\n",
        "\n",
        "  return \"???\" # 탐색을 마칠 때까지 도착점이 나오지 않으면 나갈 수 없는 미로임\n",
        "\n",
        "  # 미로정보\n",
        "  # 미로의 각 위치에 알파벳으로 이름을 지정\n",
        "  # 각 위치에서 한 번에 이동할 수 있는 모든 위치를 선으로 연결하여 그래프로 표현\n",
        "\n",
        "  maze={\n",
        "      'a':['e'],\n",
        "      'b':['c','f'],\n",
        "      'c':['b','d'],\n",
        "      'd':['c'],\n",
        "      'e':['a','i'],\n",
        "      'f':['b','g','j'],\n",
        "      'g':['f','h'],\n",
        "      'h':['g','l'],\n",
        "      'i':['e','m'],\n",
        "      'j':['f','k','n'],\n",
        "      'k':['j','o'],\n",
        "      'l':['h','p'],\n",
        "      'm':['i','n'],\n",
        "      'n':['m','j'],\n",
        "      'o':['k'],\n",
        "      'p':['l']\n",
        "  }\n",
        "\n",
        "  print(slove_maze(maze,'a','p'))"
      ],
      "metadata": {
        "id": "ApJ3a2cmbaPQ"
      },
      "execution_count": 32,
      "outputs": []
    },
    {
      "cell_type": "markdown",
      "source": [
        "#가짜 동전 찾기 알고리즘\n",
        "겉보기에는 똑같은 동전이 n개 있음\n",
        "이 중에서 한 개는 싸고 가벼운 재료로 만들어진 '가짜동전'\n",
        "좌우 무게를 비교할 수 있는 양팔 저울을 이용해서 다른 동전보다 가벼운 가짜 동전을 찾아내는 알고리즘\n",
        "\n",
        "\n"
      ],
      "metadata": {
        "id": "QLodDuhYedNi"
      }
    },
    {
      "cell_type": "markdown",
      "source": [
        "- 동전 개수는 n개 임으로 가장 오른쪽의 동전은 n-1\n",
        "- 정리하면, 0~n-1 까지 동전이 있고 이 중 가짜 동전이 한 개 있는데 우리가 만들 양팔저울 알고리즘을 이용하여 가짜 동전의 위치를 알아내는 것\n",
        "- weigh 함수: a부터 b까지 동전을 양팔 저울의 왼쪽에, c부터 d까지 동전을 오른쪽에 올리고 저울질하는 함수\n",
        "- 이때 비교하는 동전의 개수는 같음(b-a=d-c)\n",
        "- 이 함수 안에 변수 fake를 만들고 우리가 찾아야 할 가짜 동전의 위치 저장\n",
        "- 가짜 동전 찾기 알고리즘은 fake 변수의 값을 직접 알 수는 없음\n",
        "- weigh()함수를 호출하여 이 값을 찾아야만 함\n",
        "- weigh() 함수의 결과값은 -1,0,1 중에 하나\n",
        "- a ~ b쪽이 가볍다면 a ~ b 사이에 가짜 동전이 있다는 뜻 ( 결과값:-1 )\n",
        "- c ~ d쪽이 가볍다면 c ~ d 사이에 가짜 동전이 있다는 뜻 ( 결과값:1 )\n",
        "- 양쪽 무게가 같다면 어느 쪽도 가짜 동전이 없다는 뜻( 결과값:0 )"
      ],
      "metadata": {
        "id": "-6L8x9MCe0ML"
      }
    },
    {
      "cell_type": "markdown",
      "source": [
        "방법1.\n",
        "\n",
        "\n",
        "-입력: 전체 동전 위치의 시작과 끝(0,n-1)\n",
        "\n",
        "-출력: 가짜 동전의 위치 번호\n",
        "\n",
        "이렇게 저울질을 하면 마지막 n-1 동전이 가짜 동전일 경우(최악의 경우) 저울질을 n-1번 해야 가짜 동전을 찾을 수 있음(좋지 못한 알고리즘)"
      ],
      "metadata": {
        "id": "7pByKSszhvvT"
      }
    },
    {
      "cell_type": "code",
      "source": [
        "def weigh(a,b,c,d):\n",
        "  fake=10 # 가짜 동전의 위치(알고리즘은 weigh 함수를 이용하여 이 값을 맞춰야 한다)\n",
        "  if a<=fake and fake<=b:\n",
        "    return -1\n",
        "  if c<=fake and fake<=d:\n",
        "    return 1\n",
        "  return 0\n",
        "\n",
        "#weigh 함수(저울질)을 이용하여 left와 right까지에 있는 가짜동전의 위치를 알아낸다\n",
        "def find_fakecoin(left,right):\n",
        "  for i in range(left+1,right+1):# left+1과 right까지 반복\n",
        "  # 가장 왼쪽 동전과 나머지 동전을 차례로 비교\n",
        "    result=weigh(left,left,i,i)\n",
        "    if result ==-1: #left 동전이 가벼움(left동전이 가짜)\n",
        "      return left\n",
        "    elif result ==1:#i 동전이 가벼움(i 동전이 가짜)\n",
        "      return i\n",
        "#두 동전의 무게가 같으면 다음 동전으로\n",
        "  return -1# 모든 동전의 무게가 같으면 가짜 동전이 없는 예외 경우\n",
        "\n",
        "n=100\n",
        "print(find_fakecoin(0,n-1))"
      ],
      "metadata": {
        "colab": {
          "base_uri": "https://localhost:8080/"
        },
        "id": "QUSaFII3f8kj",
        "outputId": "8791e60a-da5e-4ce9-b80a-cfed43edf30f"
      },
      "execution_count": 24,
      "outputs": [
        {
          "output_type": "stream",
          "name": "stdout",
          "text": [
            "10\n"
          ]
        }
      ]
    },
    {
      "cell_type": "markdown",
      "source": [
        "방법2.\n",
        "\n",
        "-입력: 전체 동전 위치의 시작과 끝(0,n-1)\n",
        "\n",
        "-출력: 가짜 동전의 위치 번호\n",
        "\n",
        "반씩 그룹으로 나누어 비교하기(재귀호출 이용)"
      ],
      "metadata": {
        "id": "y1iE-R2diaUc"
      }
    },
    {
      "cell_type": "code",
      "source": [
        "def weigh(a,b,c,d):\n",
        "  fake=9  # 가짜 동전의 위치(알고리즘은 weigh 함수를 이용하여 이 값을 맞춰야 한다)\n",
        "  if a<=fake and fake<=b:\n",
        "    return -1\n",
        "  if c<=fake and fake<=d:\n",
        "    return 1\n",
        "  return 0\n",
        "\n",
        "def find_fakecoin(left,right):\n",
        "  if left==right:\n",
        "    return left # 종료 조건: 가짜 동전이 있을 범위 안에 동전이 한 개뿐이면 그 동전이 가짜 동전임\n",
        "\n",
        "  #left와 right까지 놓인 동전을 두 그룹(g1_left~g1_right,g2_left~g2_right)으로 나눈다\n",
        "  #동전 수가 홀수면 두 그룹으로 나누고 한 개가 남는다\n",
        "  half=(right-left+1)//2\n",
        "  g1_left=left\n",
        "  g1_right=left+half-1\n",
        "  g2_left=left+half\n",
        "  g2_right=g2_left+half-1\n",
        "\n",
        "  #나눠진 두 그룹을 weigh() 함수를 이용하여 저울질 한다\n",
        "  result=weigh(g1_left,g1_right,g2_left,g2_right)\n",
        "  if result==-1: #그룹 1이 가벼움(가짜 동전이 이 그룹에 있음)\n",
        "    return find_fakecoin(g1_left,g1_right) #그룹 1 범위를 재귀호출로 다시 조사\n",
        "  elif result==1: # 그룹 2가 가벼움(가짜동전이 이 그룹에 있음)\n",
        "    return find_fakecoin(g2_left,g2_right) # 그룹 2의 범위를 재귀호출로 다시 조사\n",
        "  else: # 두 그룹의 무게가 같으면(나뉜 두 그룹 안에 가짜 동전이 없다면)\n",
        "    return right #두 그룹으로 나뉘지 않고 남은 한 개의 동전이 가짜\n",
        "\n",
        "n=100 # 전체 동전 개수\n",
        "print(find_fakecoin(0,n-1))"
      ],
      "metadata": {
        "colab": {
          "base_uri": "https://localhost:8080/"
        },
        "id": "slJEl4qdilma",
        "outputId": "bfa8dee0-5fac-41a6-884f-28d46be4eabf"
      },
      "execution_count": 26,
      "outputs": [
        {
          "output_type": "stream",
          "name": "stdout",
          "text": [
            "9\n"
          ]
        }
      ]
    }
  ]
}
